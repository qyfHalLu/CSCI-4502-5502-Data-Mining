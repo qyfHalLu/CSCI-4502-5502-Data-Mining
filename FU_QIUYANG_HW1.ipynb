{
 "cells": [
  {
   "cell_type": "markdown",
   "metadata": {
    "colab_type": "text",
    "id": "LuYZRGeLiOkA"
   },
   "source": [
    "\n",
    "**Question 1**\n",
    "\n",
    "First data set:\n",
    "\n",
    "LINK: http://lib.stat.cmu.edu/datasets/boston\n",
    "\n",
    "Description:\n",
    "\n",
    "The name for this dataset is simply Boston. It has two tasks: nox, in which the nitrous oxide level is to be predicted; and price, in which the median value of a home is to be predicted\n",
    "\n",
    "There are 14 attributes in each case of the dataset. They are:\n",
    "\n",
    "•\tCRIM - per capita crime rate by town\n",
    "\n",
    "•\tZN - proportion of residential land zoned for lots over 25,000 sq. ft.\n",
    "\n",
    "•\tINDUS - proportion of non-retail business acres per town\n",
    ".\n",
    "•\tCHAS - Charles River dummy variable (1 if tract bounds river; 0 otherwise)\n",
    "\n",
    "•\tNOX - nitric oxides concentration (parts per 10 million)\n",
    "\n",
    "•\tRM - average number of rooms per dwelling\n",
    "\n",
    "•\tAGE - proportion of owner-occupied units built prior to 1940\n",
    "\n",
    "•\tDIS - weighted distances to five Boston employment centers\n",
    "\n",
    "•\tRAD - index of accessibility to radial highways\n",
    "\n",
    "•\tTAX - full-value property-tax rate per $10,000\n",
    "\n",
    "•\tPTRATIO - pupil-teacher ratio by town\n",
    "\n",
    "•\tB - 1000(Bk - 0.63)^2 where Bk is the proportion of blacks by town\n",
    "\n",
    "•\tLSTAT - % lower status of the population\n",
    "\n",
    "•\tMEDV - Median value of owner-occupied homes in $1000's\n",
    "\n",
    "The Boston data frame has 506 rows and 14 columns.\n",
    "\n",
    "I learned basic of data analysis like cleaning, transforming and modeling data for discovering useful information, deriving conclusions and making data decisions.\n",
    "\n",
    "This knowledge of cleaning transforming and modeling of data can be used in broad level for making a good machine learning model that can be used to create  application that will predict the house price of certain area.\n",
    "\n",
    "\n",
    "\n",
    "\n",
    "\n",
    "Second data set:\n",
    "\n",
    "Link: https://archive.ics.uci.edu/ml/machine-learning-databases/iris/\n",
    "\n",
    "Data Set Information:\n",
    "\n",
    "This dataset is for pattern recognition literature. Fisher's paper is a classic in the field and is referenced frequently to this day. (See Duda & Hart, for example.) The data set contains 3 classes of 50 instances each, where each class refers to a type of iris plant. One class is linearly separable from the other 2; the latter are NOT linearly separable from each other.\n",
    "\n",
    "Attribute Information:\n",
    "\n",
    "1. sepal length in cm\n",
    "2. sepal width in cm\n",
    "3. petal length in cm\n",
    "4. petal width in cm\n",
    "5. class:\n",
    "-- Iris Setosa\n",
    "-- Iris Versicolour\n",
    "-- Iris Virginica\n",
    "\n",
    "This data set helps to understand pattern recognition in the surrounding \n",
    "From the knowledge extracted from this dataset we can create that can understand pattern on its own.\n"
   ]
  },
  {
   "cell_type": "markdown",
   "metadata": {
    "colab_type": "text",
    "id": "PU4UufNgiyx8"
   },
   "source": [
    "**Question 2**\n",
    "\n",
    "Learning to Extract Attribute Value from Product via Question Answering: A Multi-task Approach\n",
    "\n",
    "Authors: \n",
    "\n",
    "Qifan  Wang, Li  Yang, Bhargav  Kanagal, Sumit  Sanghai, D  Sivakumar, Bin  Shu,  Zac  Yu, Jonathan L Elsas\n",
    "\n",
    "Publication:\n",
    "\n",
    "KDD '20: Proceedings of the 26th ACM SIGKDD International Conference on Knowledge Discovery & Data Mining August 2020 Pages 47–55https://doi.org/10.1145/3394486.3403047\n",
    "\n",
    "\n",
    "\n",
    "Attribute value extraction refers to the task of identifying values of an attribute of interest from product information. It is has been widely used in e-Commerce and relation learning. For better showing product to a user.\n",
    "\n",
    "\n",
    "*   Product attribute form an essential component of e-commerce platform\n",
    "*   Useful for\n",
    "        o\tFaster search\n",
    "        o\tRanking better results\n",
    "        o\tRecommendation systems\n",
    "\n",
    "*  Customers use these attributes to compare different products\n",
    "\n",
    "\n",
    "\n",
    "Proposed Solution:\n",
    "\n",
    "Attribute value extraction via question answering\n",
    "\n",
    "Formulate reading comprehension task over the product context\n",
    "*  Encode both attribute and product information\n",
    "\n",
    "      o\tThe attribute treated as question ex. brand color\n",
    "\n",
    "      o\tThe product information such as title description treated as context\n",
    "\n",
    "*\tScalable - a unique model access all attribute\n",
    "\n",
    "*\tBert language model designed to pre train deep contextual representation\n",
    "\n",
    "      o\t build a Bert based QA model\n",
    "\n",
    "*\tThere are two main limitations in existing attribute value extraction methods: scalability and generalizability.\n"
   ]
  },
  {
   "cell_type": "markdown",
   "metadata": {
    "colab_type": "text",
    "id": "N65tIMg_iMCo"
   },
   "source": []
  },
  {
   "cell_type": "markdown",
   "metadata": {
    "colab_type": "text",
    "id": "FcbP40C-pA2l"
   },
   "source": [
    "# Question 3"
   ]
  },
  {
   "cell_type": "code",
   "execution_count": 4,
   "metadata": {
    "colab": {},
    "colab_type": "code",
    "id": "eEHw2P8mkHum"
   },
   "outputs": [],
   "source": [
    "## importing  Libraries\n",
    "import pandas as pd\n",
    "import matplotlib.pyplot as plt\n",
    "%matplotlib inline"
   ]
  },
  {
   "cell_type": "code",
   "execution_count": 3,
   "metadata": {
    "colab": {},
    "colab_type": "code",
    "id": "BoMD_iMpncXc"
   },
   "outputs": [],
   "source": [
    "df=pd.read_csv(\"data.csv\")"
   ]
  },
  {
   "cell_type": "code",
   "execution_count": 5,
   "metadata": {
    "colab": {
     "base_uri": "https://localhost:8080/",
     "height": 317
    },
    "colab_type": "code",
    "id": "Ab4QNLf2omnm",
    "outputId": "485ba466-431a-4fa6-ae30-3a547d100427"
   },
   "outputs": [
    {
     "data": {
      "text/html": [
       "<div>\n",
       "<style scoped>\n",
       "    .dataframe tbody tr th:only-of-type {\n",
       "        vertical-align: middle;\n",
       "    }\n",
       "\n",
       "    .dataframe tbody tr th {\n",
       "        vertical-align: top;\n",
       "    }\n",
       "\n",
       "    .dataframe thead th {\n",
       "        text-align: right;\n",
       "    }\n",
       "</style>\n",
       "<table border=\"1\" class=\"dataframe\">\n",
       "  <thead>\n",
       "    <tr style=\"text-align: right;\">\n",
       "      <th></th>\n",
       "      <th>AT</th>\n",
       "      <th>AP</th>\n",
       "      <th>AH</th>\n",
       "      <th>AFDP</th>\n",
       "      <th>GTEP</th>\n",
       "      <th>TIT</th>\n",
       "      <th>TAT</th>\n",
       "      <th>TEY</th>\n",
       "      <th>CDP</th>\n",
       "      <th>CO</th>\n",
       "      <th>NOX</th>\n",
       "    </tr>\n",
       "  </thead>\n",
       "  <tbody>\n",
       "    <tr>\n",
       "      <th>count</th>\n",
       "      <td>7384.000000</td>\n",
       "      <td>7384.00000</td>\n",
       "      <td>7384.000000</td>\n",
       "      <td>7384.000000</td>\n",
       "      <td>7384.000000</td>\n",
       "      <td>7384.000000</td>\n",
       "      <td>7384.000000</td>\n",
       "      <td>7384.000000</td>\n",
       "      <td>7384.000000</td>\n",
       "      <td>7384.000000</td>\n",
       "      <td>7384.000000</td>\n",
       "    </tr>\n",
       "    <tr>\n",
       "      <th>mean</th>\n",
       "      <td>17.225259</td>\n",
       "      <td>1014.50911</td>\n",
       "      <td>68.647464</td>\n",
       "      <td>3.598909</td>\n",
       "      <td>26.130149</td>\n",
       "      <td>1078.974689</td>\n",
       "      <td>546.642484</td>\n",
       "      <td>133.993380</td>\n",
       "      <td>12.097025</td>\n",
       "      <td>3.129986</td>\n",
       "      <td>59.890509</td>\n",
       "    </tr>\n",
       "    <tr>\n",
       "      <th>std</th>\n",
       "      <td>8.095783</td>\n",
       "      <td>6.89543</td>\n",
       "      <td>13.541116</td>\n",
       "      <td>0.610226</td>\n",
       "      <td>4.473737</td>\n",
       "      <td>19.762449</td>\n",
       "      <td>5.489066</td>\n",
       "      <td>16.179208</td>\n",
       "      <td>1.136601</td>\n",
       "      <td>2.234962</td>\n",
       "      <td>11.132464</td>\n",
       "    </tr>\n",
       "    <tr>\n",
       "      <th>min</th>\n",
       "      <td>-6.234800</td>\n",
       "      <td>989.40000</td>\n",
       "      <td>24.085000</td>\n",
       "      <td>2.368800</td>\n",
       "      <td>17.698000</td>\n",
       "      <td>1016.000000</td>\n",
       "      <td>516.040000</td>\n",
       "      <td>100.020000</td>\n",
       "      <td>9.870800</td>\n",
       "      <td>0.212800</td>\n",
       "      <td>25.905000</td>\n",
       "    </tr>\n",
       "    <tr>\n",
       "      <th>25%</th>\n",
       "      <td>11.073250</td>\n",
       "      <td>1009.67500</td>\n",
       "      <td>59.447250</td>\n",
       "      <td>3.117300</td>\n",
       "      <td>23.147000</td>\n",
       "      <td>1070.500000</td>\n",
       "      <td>544.747500</td>\n",
       "      <td>126.255000</td>\n",
       "      <td>11.465750</td>\n",
       "      <td>1.808175</td>\n",
       "      <td>52.399000</td>\n",
       "    </tr>\n",
       "    <tr>\n",
       "      <th>50%</th>\n",
       "      <td>17.456500</td>\n",
       "      <td>1014.00000</td>\n",
       "      <td>70.952000</td>\n",
       "      <td>3.538500</td>\n",
       "      <td>25.331000</td>\n",
       "      <td>1080.300000</td>\n",
       "      <td>549.720000</td>\n",
       "      <td>131.600000</td>\n",
       "      <td>11.933000</td>\n",
       "      <td>2.533400</td>\n",
       "      <td>56.838500</td>\n",
       "    </tr>\n",
       "    <tr>\n",
       "      <th>75%</th>\n",
       "      <td>23.684750</td>\n",
       "      <td>1018.30000</td>\n",
       "      <td>79.653750</td>\n",
       "      <td>4.194825</td>\n",
       "      <td>30.018250</td>\n",
       "      <td>1099.900000</td>\n",
       "      <td>550.030000</td>\n",
       "      <td>147.160000</td>\n",
       "      <td>13.148000</td>\n",
       "      <td>3.702550</td>\n",
       "      <td>65.093250</td>\n",
       "    </tr>\n",
       "    <tr>\n",
       "      <th>max</th>\n",
       "      <td>37.103000</td>\n",
       "      <td>1036.60000</td>\n",
       "      <td>96.666000</td>\n",
       "      <td>5.239500</td>\n",
       "      <td>40.716000</td>\n",
       "      <td>1100.400000</td>\n",
       "      <td>550.590000</td>\n",
       "      <td>179.500000</td>\n",
       "      <td>15.159000</td>\n",
       "      <td>41.097000</td>\n",
       "      <td>119.680000</td>\n",
       "    </tr>\n",
       "  </tbody>\n",
       "</table>\n",
       "</div>"
      ],
      "text/plain": [
       "                AT          AP  ...           CO          NOX\n",
       "count  7384.000000  7384.00000  ...  7384.000000  7384.000000\n",
       "mean     17.225259  1014.50911  ...     3.129986    59.890509\n",
       "std       8.095783     6.89543  ...     2.234962    11.132464\n",
       "min      -6.234800   989.40000  ...     0.212800    25.905000\n",
       "25%      11.073250  1009.67500  ...     1.808175    52.399000\n",
       "50%      17.456500  1014.00000  ...     2.533400    56.838500\n",
       "75%      23.684750  1018.30000  ...     3.702550    65.093250\n",
       "max      37.103000  1036.60000  ...    41.097000   119.680000\n",
       "\n",
       "[8 rows x 11 columns]"
      ]
     },
     "execution_count": 5,
     "metadata": {
      "tags": []
     },
     "output_type": "execute_result"
    }
   ],
   "source": [
    "df.describe()"
   ]
  },
  {
   "cell_type": "code",
   "execution_count": 6,
   "metadata": {
    "colab": {
     "base_uri": "https://localhost:8080/",
     "height": 323
    },
    "colab_type": "code",
    "id": "48XIUwHkorfa",
    "outputId": "fe474109-55be-4e3e-a2a1-8e78b5862425"
   },
   "outputs": [
    {
     "name": "stdout",
     "output_type": "stream",
     "text": [
      "<class 'pandas.core.frame.DataFrame'>\n",
      "RangeIndex: 7384 entries, 0 to 7383\n",
      "Data columns (total 11 columns):\n",
      " #   Column  Non-Null Count  Dtype  \n",
      "---  ------  --------------  -----  \n",
      " 0   AT      7384 non-null   float64\n",
      " 1   AP      7384 non-null   float64\n",
      " 2   AH      7384 non-null   float64\n",
      " 3   AFDP    7384 non-null   float64\n",
      " 4   GTEP    7384 non-null   float64\n",
      " 5   TIT     7384 non-null   float64\n",
      " 6   TAT     7384 non-null   float64\n",
      " 7   TEY     7384 non-null   float64\n",
      " 8   CDP     7384 non-null   float64\n",
      " 9   CO      7384 non-null   float64\n",
      " 10  NOX     7384 non-null   float64\n",
      "dtypes: float64(11)\n",
      "memory usage: 634.7 KB\n"
     ]
    }
   ],
   "source": [
    "df.info()"
   ]
  },
  {
   "cell_type": "code",
   "execution_count": 7,
   "metadata": {
    "colab": {
     "base_uri": "https://localhost:8080/",
     "height": 337
    },
    "colab_type": "code",
    "id": "uMWWEWi4ovk4",
    "outputId": "388501e8-9ab5-44f0-c199-bafcce048e96"
   },
   "outputs": [
    {
     "data": {
      "text/plain": [
       "<matplotlib.collections.PathCollection at 0x7fda3525e358>"
      ]
     },
     "execution_count": 7,
     "metadata": {
      "tags": []
     },
     "output_type": "execute_result"
    },
    {
     "data": {
      "image/png": "[encoded data removed]",
      "text/plain": [
       "<Figure size 720x360 with 1 Axes>"
      ]
     },
     "metadata": {
      "needs_background": "light",
      "tags": []
     },
     "output_type": "display_data"
    }
   ],
   "source": [
    "## Scatter  Plot\n",
    "fig, ax = plt.subplots(figsize=(10,5))\n",
    "ax.scatter(df[\"CO\"],df[\"NOX\"])"
   ]
  },
  {
   "cell_type": "code",
   "execution_count": null,
   "metadata": {
    "colab": {},
    "colab_type": "code",
    "id": "DZpRTP0vo9wq"
   },
   "outputs": [],
   "source": []
  }
 ],
 "metadata": {
  "colab": {
   "name": "Untitled6.ipynb",
   "provenance": []
  },
  "kernelspec": {
   "display_name": "Python 3",
   "language": "python",
   "name": "python3"
  },
  "language_info": {
   "codemirror_mode": {
    "name": "ipython",
    "version": 3
   },
   "file_extension": ".py",
   "mimetype": "text/x-python",
   "name": "python",
   "nbconvert_exporter": "python",
   "pygments_lexer": "ipython3",
   "version": "3.8.3"
  }
 },
 "nbformat": 4,
 "nbformat_minor": 1
}
